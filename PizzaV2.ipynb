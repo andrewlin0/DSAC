{
  "nbformat": 4,
  "nbformat_minor": 0,
  "metadata": {
    "colab": {
      "name": "PizzaV2.ipynb",
      "provenance": []
    },
    "kernelspec": {
      "name": "python3",
      "display_name": "Python 3"
    },
    "language_info": {
      "name": "python"
    }
  },
  "cells": [
    {
      "cell_type": "markdown",
      "metadata": {
        "id": "jKE7ayRxbePx"
      },
      "source": [
        "# Tasks\n",
        "\n",
        "1. Import pandas\n",
        "2. Import the pizza_v2.csv using the pandas read_csv function\n",
        "3. Clean price_rupiah by making the column type int, changing the column name to price_yen, and converting all the values to yen by multiplying the column by .0077\n",
        "4. Make the diameter column type int\n",
        "5. Fix mispellings/syntax inconsistencies in the topping, variant, and size columns\n",
        "6. Check for missing values\n"
      ]
    }
  ]
}