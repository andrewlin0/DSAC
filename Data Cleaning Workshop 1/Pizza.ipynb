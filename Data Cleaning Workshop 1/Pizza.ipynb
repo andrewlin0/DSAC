{
  "nbformat": 4,
  "nbformat_minor": 0,
  "metadata": {
    "colab": {
      "name": "Pizza.ipynb",
      "provenance": []
    },
    "kernelspec": {
      "name": "python3",
      "display_name": "Python 3"
    },
    "language_info": {
      "name": "python"
    }
  },
  "cells": [
    {
      "cell_type": "code",
      "metadata": {
        "id": "NxaWEBhtTGmW"
      },
      "source": [
        "import pandas as pd\n",
        "\n",
        "pizza = pd.read_csv(\"pizza_v1.csv\")\n",
        "pizza"
      ],
      "execution_count": null,
      "outputs": []
    },
    {
      "cell_type": "markdown",
      "metadata": {
        "id": "Tvon1bs2U7BU"
      },
      "source": [
        "## Price Rupiah Column"
      ]
    },
    {
      "cell_type": "code",
      "metadata": {
        "colab": {
          "base_uri": "https://localhost:8080/",
          "height": 414
        },
        "id": "Wmwv38OhTQW8",
        "outputId": "072fafea-f1dd-4211-9ead-e610b61372a2"
      },
      "source": [
        "pizza[\"price_rupiah\"] = pizza[\"price_rupiah\"].str.strip(\"Rp\")\n",
        "pizza"
      ],
      "execution_count": null,
      "outputs": [
        {
          "output_type": "execute_result",
          "data": {
            "text/html": [
              "<div>\n",
              "<style scoped>\n",
              "    .dataframe tbody tr th:only-of-type {\n",
              "        vertical-align: middle;\n",
              "    }\n",
              "\n",
              "    .dataframe tbody tr th {\n",
              "        vertical-align: top;\n",
              "    }\n",
              "\n",
              "    .dataframe thead th {\n",
              "        text-align: right;\n",
              "    }\n",
              "</style>\n",
              "<table border=\"1\" class=\"dataframe\">\n",
              "  <thead>\n",
              "    <tr style=\"text-align: right;\">\n",
              "      <th></th>\n",
              "      <th>company</th>\n",
              "      <th>price_rupiah</th>\n",
              "      <th>diameter</th>\n",
              "      <th>topping</th>\n",
              "      <th>variant</th>\n",
              "      <th>size</th>\n",
              "      <th>extra_sauce</th>\n",
              "      <th>extra_cheese</th>\n",
              "    </tr>\n",
              "  </thead>\n",
              "  <tbody>\n",
              "    <tr>\n",
              "      <th>0</th>\n",
              "      <td>A</td>\n",
              "      <td>235,000</td>\n",
              "      <td>22.0</td>\n",
              "      <td>chicken</td>\n",
              "      <td>double_signature</td>\n",
              "      <td>jumbo</td>\n",
              "      <td>yes</td>\n",
              "      <td>yes</td>\n",
              "    </tr>\n",
              "    <tr>\n",
              "      <th>1</th>\n",
              "      <td>A</td>\n",
              "      <td>198,000</td>\n",
              "      <td>20.0</td>\n",
              "      <td>papperoni</td>\n",
              "      <td>double_signature</td>\n",
              "      <td>jumbo</td>\n",
              "      <td>yes</td>\n",
              "      <td>yes</td>\n",
              "    </tr>\n",
              "    <tr>\n",
              "      <th>2</th>\n",
              "      <td>A</td>\n",
              "      <td>120,000</td>\n",
              "      <td>16.0</td>\n",
              "      <td>mushrooms</td>\n",
              "      <td>double_signature</td>\n",
              "      <td>reguler</td>\n",
              "      <td>yes</td>\n",
              "      <td>yes</td>\n",
              "    </tr>\n",
              "    <tr>\n",
              "      <th>3</th>\n",
              "      <td>A</td>\n",
              "      <td>155,000</td>\n",
              "      <td>14.0</td>\n",
              "      <td>smoked beef</td>\n",
              "      <td>double_signature</td>\n",
              "      <td>reguler</td>\n",
              "      <td>yes</td>\n",
              "      <td>no</td>\n",
              "    </tr>\n",
              "    <tr>\n",
              "      <th>4</th>\n",
              "      <td>A</td>\n",
              "      <td>248,000</td>\n",
              "      <td>18.0</td>\n",
              "      <td>mozzarella</td>\n",
              "      <td>double_signature</td>\n",
              "      <td>jumbo</td>\n",
              "      <td>yes</td>\n",
              "      <td>no</td>\n",
              "    </tr>\n",
              "    <tr>\n",
              "      <th>...</th>\n",
              "      <td>...</td>\n",
              "      <td>...</td>\n",
              "      <td>...</td>\n",
              "      <td>...</td>\n",
              "      <td>...</td>\n",
              "      <td>...</td>\n",
              "      <td>...</td>\n",
              "      <td>...</td>\n",
              "    </tr>\n",
              "    <tr>\n",
              "      <th>124</th>\n",
              "      <td>E</td>\n",
              "      <td>39,000</td>\n",
              "      <td>8.5</td>\n",
              "      <td>tuna</td>\n",
              "      <td>spicy tuna</td>\n",
              "      <td>small</td>\n",
              "      <td>yes</td>\n",
              "      <td>yes</td>\n",
              "    </tr>\n",
              "    <tr>\n",
              "      <th>125</th>\n",
              "      <td>E</td>\n",
              "      <td>72,000</td>\n",
              "      <td>12.0</td>\n",
              "      <td>tuna</td>\n",
              "      <td>spicy tuna</td>\n",
              "      <td>medium</td>\n",
              "      <td>yes</td>\n",
              "      <td>yes</td>\n",
              "    </tr>\n",
              "    <tr>\n",
              "      <th>126</th>\n",
              "      <td>E</td>\n",
              "      <td>99,000</td>\n",
              "      <td>14.0</td>\n",
              "      <td>tuna</td>\n",
              "      <td>spicy tuna</td>\n",
              "      <td>large</td>\n",
              "      <td>yes</td>\n",
              "      <td>yes</td>\n",
              "    </tr>\n",
              "    <tr>\n",
              "      <th>127</th>\n",
              "      <td>E</td>\n",
              "      <td>44,000</td>\n",
              "      <td>8.5</td>\n",
              "      <td>meat</td>\n",
              "      <td>BBQ_meat_fiesta</td>\n",
              "      <td>small</td>\n",
              "      <td>yes</td>\n",
              "      <td>no</td>\n",
              "    </tr>\n",
              "    <tr>\n",
              "      <th>128</th>\n",
              "      <td>E</td>\n",
              "      <td>78,000</td>\n",
              "      <td>12.0</td>\n",
              "      <td>meat</td>\n",
              "      <td>BBQ_meat_fiesta</td>\n",
              "      <td>medium</td>\n",
              "      <td>no</td>\n",
              "      <td>no</td>\n",
              "    </tr>\n",
              "  </tbody>\n",
              "</table>\n",
              "<p>129 rows × 8 columns</p>\n",
              "</div>"
            ],
            "text/plain": [
              "    company price_rupiah  diameter  ...     size extra_sauce extra_cheese\n",
              "0         A      235,000      22.0  ...    jumbo         yes          yes\n",
              "1         A      198,000      20.0  ...    jumbo         yes          yes\n",
              "2         A      120,000      16.0  ...  reguler         yes          yes\n",
              "3         A      155,000      14.0  ...  reguler         yes           no\n",
              "4         A      248,000      18.0  ...    jumbo         yes           no\n",
              "..      ...          ...       ...  ...      ...         ...          ...\n",
              "124       E       39,000       8.5  ...    small         yes          yes\n",
              "125       E       72,000      12.0  ...   medium         yes          yes\n",
              "126       E       99,000      14.0  ...    large         yes          yes\n",
              "127       E       44,000       8.5  ...    small         yes           no\n",
              "128       E       78,000      12.0  ...   medium          no           no\n",
              "\n",
              "[129 rows x 8 columns]"
            ]
          },
          "metadata": {},
          "execution_count": 2
        }
      ]
    },
    {
      "cell_type": "code",
      "metadata": {
        "id": "xj5hvjADTzcw"
      },
      "source": [
        "pizza[\"price_rupiah\"] = pizza[\"price_rupiah\"].astype(int)"
      ],
      "execution_count": null,
      "outputs": []
    },
    {
      "cell_type": "code",
      "metadata": {
        "id": "FfIJdtwHTooF"
      },
      "source": [
        "pizza[\"price_rupiah\"] = pizza[\"price_rupiah\"].str.replace(\",\", \"\")\n",
        "pizza"
      ],
      "execution_count": null,
      "outputs": []
    },
    {
      "cell_type": "code",
      "metadata": {
        "id": "WhE3EWWeT3uy"
      },
      "source": [
        "pizza[\"price_rupiah\"] = pizza[\"price_rupiah\"].astype(int)\n",
        "pizza"
      ],
      "execution_count": null,
      "outputs": []
    },
    {
      "cell_type": "code",
      "metadata": {
        "id": "6c6yHXmzUKaG"
      },
      "source": [
        "pizza = pizza.rename(columns={\"price_rupiah\":\"price_usd\"})\n",
        "pizza"
      ],
      "execution_count": null,
      "outputs": []
    },
    {
      "cell_type": "code",
      "metadata": {
        "id": "7FL0d66rUqeB"
      },
      "source": [
        "pizza['price_usd'] = pizza['price_usd'] * 0.00007\n",
        "pizza"
      ],
      "execution_count": null,
      "outputs": []
    },
    {
      "cell_type": "markdown",
      "metadata": {
        "id": "xWkQIBxFU-tX"
      },
      "source": [
        "## Topping"
      ]
    },
    {
      "cell_type": "code",
      "metadata": {
        "id": "ujd4BWHQU9oA"
      },
      "source": [
        "pizza[\"topping\"].unique()"
      ],
      "execution_count": null,
      "outputs": []
    },
    {
      "cell_type": "code",
      "metadata": {
        "id": "x5ZvdB5FVNsR"
      },
      "source": [
        "pizza[\"topping\"] = pizza[\"topping\"].replace(\"papperoni\", \"pepperoni\")\n",
        "pizza[\"topping\"].unique()"
      ],
      "execution_count": null,
      "outputs": []
    },
    {
      "cell_type": "markdown",
      "metadata": {
        "id": "R_4h8KPfVXL7"
      },
      "source": [
        "## Variant"
      ]
    },
    {
      "cell_type": "code",
      "metadata": {
        "id": "sHoNTLT6VWRx"
      },
      "source": [
        "pizza[\"variant\"].unique()"
      ],
      "execution_count": null,
      "outputs": []
    },
    {
      "cell_type": "code",
      "metadata": {
        "id": "B_z-qIxIVlXX"
      },
      "source": [
        "pizza[\"variant\"] = pizza[\"variant\"].replace(\"gournet_greek\", \"gourmet_greek\")\n",
        "pizza[\"variant\"] = pizza[\"variant\"].replace(\"spicy tuna\", \"spicy_tuna\")\n",
        "pizza[\"variant\"].unique()"
      ],
      "execution_count": null,
      "outputs": []
    },
    {
      "cell_type": "markdown",
      "metadata": {
        "id": "65h9x3ejV9tc"
      },
      "source": [
        "## Size\n"
      ]
    },
    {
      "cell_type": "code",
      "metadata": {
        "id": "4mLeMCaLWAKJ"
      },
      "source": [
        "pizza[\"size\"].unique()"
      ],
      "execution_count": null,
      "outputs": []
    },
    {
      "cell_type": "code",
      "metadata": {
        "id": "PWvEfl0AWFPR"
      },
      "source": [
        "pizza[\"size\"] = pizza[\"size\"].replace(\"reguler\", \"regular\")\n",
        "pizza[\"size\"].unique()"
      ],
      "execution_count": null,
      "outputs": []
    },
    {
      "cell_type": "code",
      "metadata": {
        "id": "uZrq8PTxWSX-"
      },
      "source": [
        "pd.set_option('display.max_rows', None)\n",
        "pizza[[\"diameter\", \"size\", \"variant\"]].sort_values([\"variant\",\"diameter\"])\n",
        "#pd.set_option('display.max_rows', 12)\n",
        "#pizza"
      ],
      "execution_count": null,
      "outputs": []
    },
    {
      "cell_type": "code",
      "metadata": {
        "id": "zVqV1x46aNnl"
      },
      "source": [
        "pizza[[\"company\", \"size\"]].value_counts().sort_values()"
      ],
      "execution_count": null,
      "outputs": []
    },
    {
      "cell_type": "markdown",
      "metadata": {
        "id": "f5cZUKr3ZxyN"
      },
      "source": [
        "## Extra Sauce"
      ]
    },
    {
      "cell_type": "code",
      "metadata": {
        "id": "t1kC_4RwZxRm"
      },
      "source": [
        "pizza[\"extra_sauce\"].unique()"
      ],
      "execution_count": null,
      "outputs": []
    },
    {
      "cell_type": "markdown",
      "metadata": {
        "id": "biUJe0ZzaAd7"
      },
      "source": [
        "## Extra Cheese"
      ]
    },
    {
      "cell_type": "code",
      "metadata": {
        "id": "ScGJrhmxaCDx"
      },
      "source": [
        "pizza[\"extra_cheese\"].unique()"
      ],
      "execution_count": null,
      "outputs": []
    },
    {
      "cell_type": "markdown",
      "metadata": {
        "id": "vsxMBntpjsKB"
      },
      "source": [
        "## Final"
      ]
    },
    {
      "cell_type": "code",
      "metadata": {
        "id": "rcJ39hRNaFJe"
      },
      "source": [
        "pizza"
      ],
      "execution_count": null,
      "outputs": []
    }
  ]
}